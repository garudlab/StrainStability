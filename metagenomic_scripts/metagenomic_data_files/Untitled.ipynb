{
 "cells": [
  {
   "cell_type": "code",
   "execution_count": 22,
   "id": "742bd00e",
   "metadata": {},
   "outputs": [],
   "source": [
    "import pandas as pd\n",
    "import matplotlib.pyplot as plt"
   ]
  },
  {
   "cell_type": "code",
   "execution_count": 47,
   "id": "6df9b8dc",
   "metadata": {},
   "outputs": [],
   "source": [
    "dates = pd.read_pickle(\"Poyet_collection_dates.pkl\")"
   ]
  },
  {
   "cell_type": "code",
   "execution_count": 52,
   "id": "47c93540",
   "metadata": {},
   "outputs": [],
   "source": [
    "df = pd.read_csv(\"Poyet_sample_metadata.csv\",index_col=0,sep=\"\\t\")"
   ]
  },
  {
   "cell_type": "code",
   "execution_count": 59,
   "id": "2dcf5081",
   "metadata": {},
   "outputs": [],
   "source": [
    "df[\"collection_date\"] = pd.to_datetime(df[\"collection_date\"])"
   ]
  },
  {
   "cell_type": "code",
   "execution_count": 136,
   "id": "16d423b9",
   "metadata": {},
   "outputs": [],
   "source": [
    "host = \"ae\"\n",
    "d1 = df.loc[df[\"host\"] == host].iloc[0][\"collection_date\"]"
   ]
  },
  {
   "cell_type": "code",
   "execution_count": 137,
   "id": "4635de8f",
   "metadata": {},
   "outputs": [],
   "source": [
    "d2 = df.loc[df[\"host\"] == host].iloc[-1][\"collection_date\"]"
   ]
  },
  {
   "cell_type": "code",
   "execution_count": 138,
   "id": "d2602f68",
   "metadata": {},
   "outputs": [
    {
     "data": {
      "text/plain": [
       "58"
      ]
     },
     "execution_count": 138,
     "metadata": {},
     "output_type": "execute_result"
    }
   ],
   "source": [
    "df.loc[df[\"host\"] == host].shape[0]"
   ]
  },
  {
   "cell_type": "code",
   "execution_count": 144,
   "id": "28354813",
   "metadata": {},
   "outputs": [
    {
     "data": {
      "text/plain": [
       "0.8181818181818182"
      ]
     },
     "execution_count": 144,
     "metadata": {},
     "output_type": "execute_result"
    }
   ],
   "source": [
    "9/11"
   ]
  },
  {
   "cell_type": "code",
   "execution_count": 139,
   "id": "963e6f73",
   "metadata": {},
   "outputs": [
    {
     "data": {
      "text/plain": [
       "Timedelta('41 days 00:00:00')"
      ]
     },
     "execution_count": 139,
     "metadata": {},
     "output_type": "execute_result"
    }
   ],
   "source": [
    "df.loc[df[\"host\"] == host][\"collection_date\"].diff().max()"
   ]
  },
  {
   "cell_type": "code",
   "execution_count": 135,
   "id": "141b756b",
   "metadata": {},
   "outputs": [
    {
     "data": {
      "text/plain": [
       "Timedelta('375 days 00:00:00')"
      ]
     },
     "execution_count": 135,
     "metadata": {},
     "output_type": "execute_result"
    }
   ],
   "source": [
    "d2 - d1"
   ]
  },
  {
   "cell_type": "code",
   "execution_count": 121,
   "id": "f97f8972",
   "metadata": {},
   "outputs": [
    {
     "data": {
      "text/plain": [
       "2.7927461139896375"
      ]
     },
     "execution_count": 121,
     "metadata": {},
     "output_type": "execute_result"
    }
   ],
   "source": [
    "539/193"
   ]
  },
  {
   "cell_type": "code",
   "execution_count": 83,
   "id": "f31054b0",
   "metadata": {},
   "outputs": [
    {
     "ename": "AttributeError",
     "evalue": "'Timedelta' object has no attribute 'dt'",
     "output_type": "error",
     "traceback": [
      "\u001b[0;31m---------------------------------------------------------------------------\u001b[0m",
      "\u001b[0;31mAttributeError\u001b[0m                            Traceback (most recent call last)",
      "\u001b[0;32m/tmp/ipykernel_7240/3326678067.py\u001b[0m in \u001b[0;36m<module>\u001b[0;34m\u001b[0m\n\u001b[0;32m----> 1\u001b[0;31m \u001b[0;34m(\u001b[0m\u001b[0md2\u001b[0m \u001b[0;34m-\u001b[0m \u001b[0md1\u001b[0m\u001b[0;34m)\u001b[0m\u001b[0;34m.\u001b[0m\u001b[0mdt\u001b[0m\u001b[0;34m.\u001b[0m\u001b[0mdays\u001b[0m\u001b[0;34m(\u001b[0m\u001b[0;34m)\u001b[0m\u001b[0;34m/\u001b[0m\u001b[0mdf\u001b[0m\u001b[0;34m.\u001b[0m\u001b[0mloc\u001b[0m\u001b[0;34m[\u001b[0m\u001b[0mdf\u001b[0m\u001b[0;34m[\u001b[0m\u001b[0;34m\"host\"\u001b[0m\u001b[0;34m]\u001b[0m \u001b[0;34m==\u001b[0m \u001b[0;34m\"ao\"\u001b[0m\u001b[0;34m]\u001b[0m\u001b[0;34m.\u001b[0m\u001b[0mshape\u001b[0m\u001b[0;34m[\u001b[0m\u001b[0;36m0\u001b[0m\u001b[0;34m]\u001b[0m\u001b[0;34m\u001b[0m\u001b[0;34m\u001b[0m\u001b[0m\n\u001b[0m",
      "\u001b[0;31mAttributeError\u001b[0m: 'Timedelta' object has no attribute 'dt'"
     ]
    }
   ],
   "source": [
    "(d2 - d1).dt.days()/df.loc[df[\"host\"] == \"ao\"].shape[0]"
   ]
  },
  {
   "cell_type": "code",
   "execution_count": 24,
   "id": "e42ef1e0",
   "metadata": {},
   "outputs": [],
   "source": [
    "df[\"host\"] = [s.split(\"-\")[0] for s in df[\"sample_alias\"]]"
   ]
  },
  {
   "cell_type": "code",
   "execution_count": 34,
   "id": "c08ddd75",
   "metadata": {},
   "outputs": [],
   "source": [
    "df = df.loc[df[\"scientific_name\"] == 'human gut metagenome']\n",
    "df = df.loc[df[\"library_strategy\"] == \"WGS\"]"
   ]
  },
  {
   "cell_type": "code",
   "execution_count": 42,
   "id": "2ef0d49e",
   "metadata": {},
   "outputs": [
    {
     "data": {
      "text/plain": [
       "59"
      ]
     },
     "execution_count": 42,
     "metadata": {},
     "output_type": "execute_result"
    }
   ],
   "source": [
    "(df[\"host\"] == \"ae\").sum()"
   ]
  },
  {
   "cell_type": "code",
   "execution_count": 43,
   "id": "946d7a9c",
   "metadata": {},
   "outputs": [
    {
     "data": {
      "text/plain": [
       "402"
      ]
     },
     "execution_count": 43,
     "metadata": {},
     "output_type": "execute_result"
    }
   ],
   "source": [
    "206+74+63+59"
   ]
  },
  {
   "cell_type": "code",
   "execution_count": 19,
   "id": "c4f5ffe7",
   "metadata": {},
   "outputs": [
    {
     "data": {
      "text/plain": [
       "study_accession\n",
       "PRJNA544527    False\n",
       "PRJNA544527    False\n",
       "PRJNA544527    False\n",
       "PRJNA544527    False\n",
       "PRJNA544527    False\n",
       "               ...  \n",
       "PRJNA544527    False\n",
       "PRJNA544527    False\n",
       "PRJNA544527    False\n",
       "PRJNA544527    False\n",
       "PRJNA544527    False\n",
       "Name: host, Length: 1731, dtype: bool"
      ]
     },
     "execution_count": 19,
     "metadata": {},
     "output_type": "execute_result"
    }
   ],
   "source": [
    "(df[\"host\"] == \"am\")"
   ]
  },
  {
   "cell_type": "code",
   "execution_count": 3,
   "id": "0f2ac34a",
   "metadata": {},
   "outputs": [
    {
     "data": {
      "text/plain": [
       "(array([  6.,  19.,  96., 118.,  89.,  37.,   7.,   5.,   3.,   3.]),\n",
       " array([2.04843600e+06, 3.95044610e+08, 7.88040783e+08, 1.18103696e+09,\n",
       "        1.57403313e+09, 1.96702930e+09, 2.36002548e+09, 2.75302165e+09,\n",
       "        3.14601783e+09, 3.53901400e+09, 3.93201017e+09]),\n",
       " <BarContainer object of 10 artists>)"
      ]
     },
     "execution_count": 3,
     "metadata": {},
     "output_type": "execute_result"
    },
    {
     "data": {
      "image/png": "[encoded data removed]",
      "text/plain": [
       "<Figure size 432x288 with 1 Axes>"
      ]
     },
     "metadata": {
      "needs_background": "light"
     },
     "output_type": "display_data"
    }
   ],
   "source": [
    "plt.hist(df[\"base_count\"].values)"
   ]
  },
  {
   "cell_type": "code",
   "execution_count": 4,
   "id": "1c9d663f",
   "metadata": {},
   "outputs": [
    {
     "data": {
      "text/plain": [
       "False"
      ]
     },
     "execution_count": 4,
     "metadata": {},
     "output_type": "execute_result"
    }
   ],
   "source": [
    "df.loc[\"SRR9224141\"][\"read_count\"] < 1e6"
   ]
  },
  {
   "cell_type": "code",
   "execution_count": 5,
   "id": "ac106134",
   "metadata": {},
   "outputs": [
    {
     "data": {
      "text/plain": [
       "sample_accession                                             SAMN11950292\n",
       "experiment_accession                                           SRX5994520\n",
       "run_accession.1                                                SRR9224323\n",
       "tax_id                                                             408170\n",
       "scientific_name                                      human gut metagenome\n",
       "library_strategy                                                      WGS\n",
       "read_count                                                        7043125\n",
       "base_count                                                     1355130567\n",
       "fastq_ftp               ftp.sra.ebi.ac.uk/vol1/fastq/SRR922/003/SRR922...\n",
       "submitted_ftp                                                         NaN\n",
       "submitted_format                                                      NaN\n",
       "sra_ftp                  ftp.sra.ebi.ac.uk/vol1/srr/SRR922/003/SRR9224323\n",
       "sample_alias                                                   an-0006_MG\n",
       "host                                                                   an\n",
       "collection_date                                                2015-01-23\n",
       "Name: SRR9224323, dtype: object"
      ]
     },
     "execution_count": 5,
     "metadata": {},
     "output_type": "execute_result"
    }
   ],
   "source": [
    "df.loc[\"SRR9224323\"]"
   ]
  },
  {
   "cell_type": "code",
   "execution_count": 6,
   "id": "8405859e",
   "metadata": {},
   "outputs": [
    {
     "data": {
      "text/plain": [
       "sample_accession                                             SAMN11950295\n",
       "experiment_accession                                           SRX5994519\n",
       "run_accession.1                                                SRR9224324\n",
       "tax_id                                                             408170\n",
       "scientific_name                                      human gut metagenome\n",
       "library_strategy                                                      WGS\n",
       "read_count                                                       10056094\n",
       "base_count                                                     1922794453\n",
       "fastq_ftp               ftp.sra.ebi.ac.uk/vol1/fastq/SRR922/004/SRR922...\n",
       "submitted_ftp                                                         NaN\n",
       "submitted_format                                                      NaN\n",
       "sra_ftp                  ftp.sra.ebi.ac.uk/vol1/srr/SRR922/004/SRR9224324\n",
       "sample_alias                                                   an-0015_MG\n",
       "host                                                                   an\n",
       "collection_date                                                2015-02-25\n",
       "Name: SRR9224324, dtype: object"
      ]
     },
     "execution_count": 6,
     "metadata": {},
     "output_type": "execute_result"
    }
   ],
   "source": [
    "df.loc[\"SRR9224324\"]"
   ]
  },
  {
   "cell_type": "code",
   "execution_count": 7,
   "id": "07f87a01",
   "metadata": {},
   "outputs": [
    {
     "data": {
      "text/html": [
       "<div>\n",
       "<style scoped>\n",
       "    .dataframe tbody tr th:only-of-type {\n",
       "        vertical-align: middle;\n",
       "    }\n",
       "\n",
       "    .dataframe tbody tr th {\n",
       "        vertical-align: top;\n",
       "    }\n",
       "\n",
       "    .dataframe thead th {\n",
       "        text-align: right;\n",
       "    }\n",
       "</style>\n",
       "<table border=\"1\" class=\"dataframe\">\n",
       "  <thead>\n",
       "    <tr style=\"text-align: right;\">\n",
       "      <th></th>\n",
       "      <th>sample_accession</th>\n",
       "      <th>experiment_accession</th>\n",
       "      <th>run_accession.1</th>\n",
       "      <th>tax_id</th>\n",
       "      <th>scientific_name</th>\n",
       "      <th>library_strategy</th>\n",
       "      <th>read_count</th>\n",
       "      <th>base_count</th>\n",
       "      <th>fastq_ftp</th>\n",
       "      <th>submitted_ftp</th>\n",
       "      <th>submitted_format</th>\n",
       "      <th>sra_ftp</th>\n",
       "      <th>sample_alias</th>\n",
       "      <th>host</th>\n",
       "      <th>collection_date</th>\n",
       "    </tr>\n",
       "    <tr>\n",
       "      <th>run_accession</th>\n",
       "      <th></th>\n",
       "      <th></th>\n",
       "      <th></th>\n",
       "      <th></th>\n",
       "      <th></th>\n",
       "      <th></th>\n",
       "      <th></th>\n",
       "      <th></th>\n",
       "      <th></th>\n",
       "      <th></th>\n",
       "      <th></th>\n",
       "      <th></th>\n",
       "      <th></th>\n",
       "      <th></th>\n",
       "      <th></th>\n",
       "    </tr>\n",
       "  </thead>\n",
       "  <tbody>\n",
       "    <tr>\n",
       "      <th>SRR9224203</th>\n",
       "      <td>SAMN11950287</td>\n",
       "      <td>SRX5994640</td>\n",
       "      <td>SRR9224203</td>\n",
       "      <td>408170</td>\n",
       "      <td>human gut metagenome</td>\n",
       "      <td>WGS</td>\n",
       "      <td>9793481</td>\n",
       "      <td>1896190030</td>\n",
       "      <td>ftp.sra.ebi.ac.uk/vol1/fastq/SRR922/003/SRR922...</td>\n",
       "      <td>NaN</td>\n",
       "      <td>NaN</td>\n",
       "      <td>ftp.sra.ebi.ac.uk/vol1/srr/SRR922/003/SRR9224203</td>\n",
       "      <td>an-0001_MG</td>\n",
       "      <td>an</td>\n",
       "      <td>2015-01-09</td>\n",
       "    </tr>\n",
       "    <tr>\n",
       "      <th>SRR9224313</th>\n",
       "      <td>SAMN11950288</td>\n",
       "      <td>SRX5994530</td>\n",
       "      <td>SRR9224313</td>\n",
       "      <td>408170</td>\n",
       "      <td>human gut metagenome</td>\n",
       "      <td>WGS</td>\n",
       "      <td>16153742</td>\n",
       "      <td>3060644751</td>\n",
       "      <td>ftp.sra.ebi.ac.uk/vol1/fastq/SRR922/003/SRR922...</td>\n",
       "      <td>NaN</td>\n",
       "      <td>NaN</td>\n",
       "      <td>ftp.sra.ebi.ac.uk/vol1/srr/SRR922/003/SRR9224313</td>\n",
       "      <td>an-0002_MG</td>\n",
       "      <td>an</td>\n",
       "      <td>2015-01-12</td>\n",
       "    </tr>\n",
       "    <tr>\n",
       "      <th>SRR9224314</th>\n",
       "      <td>SAMN11950289</td>\n",
       "      <td>SRX5994529</td>\n",
       "      <td>SRR9224314</td>\n",
       "      <td>408170</td>\n",
       "      <td>human gut metagenome</td>\n",
       "      <td>WGS</td>\n",
       "      <td>5326453</td>\n",
       "      <td>1028840940</td>\n",
       "      <td>ftp.sra.ebi.ac.uk/vol1/fastq/SRR922/004/SRR922...</td>\n",
       "      <td>NaN</td>\n",
       "      <td>NaN</td>\n",
       "      <td>ftp.sra.ebi.ac.uk/vol1/srr/SRR922/004/SRR9224314</td>\n",
       "      <td>an-0003_MG</td>\n",
       "      <td>an</td>\n",
       "      <td>2015-01-13</td>\n",
       "    </tr>\n",
       "    <tr>\n",
       "      <th>SRR9224321</th>\n",
       "      <td>SAMN11950290</td>\n",
       "      <td>SRX5994522</td>\n",
       "      <td>SRR9224321</td>\n",
       "      <td>408170</td>\n",
       "      <td>human gut metagenome</td>\n",
       "      <td>WGS</td>\n",
       "      <td>6739394</td>\n",
       "      <td>1300910816</td>\n",
       "      <td>ftp.sra.ebi.ac.uk/vol1/fastq/SRR922/001/SRR922...</td>\n",
       "      <td>NaN</td>\n",
       "      <td>NaN</td>\n",
       "      <td>ftp.sra.ebi.ac.uk/vol1/srr/SRR922/001/SRR9224321</td>\n",
       "      <td>an-0004_MG</td>\n",
       "      <td>an</td>\n",
       "      <td>2015-01-20</td>\n",
       "    </tr>\n",
       "    <tr>\n",
       "      <th>SRR9224184</th>\n",
       "      <td>SAMN11950291</td>\n",
       "      <td>SRX5994659</td>\n",
       "      <td>SRR9224184</td>\n",
       "      <td>408170</td>\n",
       "      <td>human gut metagenome</td>\n",
       "      <td>WGS</td>\n",
       "      <td>6647595</td>\n",
       "      <td>1258188780</td>\n",
       "      <td>ftp.sra.ebi.ac.uk/vol1/fastq/SRR922/004/SRR922...</td>\n",
       "      <td>NaN</td>\n",
       "      <td>NaN</td>\n",
       "      <td>ftp.sra.ebi.ac.uk/vol1/srr/SRR922/004/SRR9224184</td>\n",
       "      <td>an-0005_MG</td>\n",
       "      <td>an</td>\n",
       "      <td>2015-01-22</td>\n",
       "    </tr>\n",
       "    <tr>\n",
       "      <th>...</th>\n",
       "      <td>...</td>\n",
       "      <td>...</td>\n",
       "      <td>...</td>\n",
       "      <td>...</td>\n",
       "      <td>...</td>\n",
       "      <td>...</td>\n",
       "      <td>...</td>\n",
       "      <td>...</td>\n",
       "      <td>...</td>\n",
       "      <td>...</td>\n",
       "      <td>...</td>\n",
       "      <td>...</td>\n",
       "      <td>...</td>\n",
       "      <td>...</td>\n",
       "      <td>...</td>\n",
       "    </tr>\n",
       "    <tr>\n",
       "      <th>SRR9224237</th>\n",
       "      <td>SAMN11950345</td>\n",
       "      <td>SRX5994606</td>\n",
       "      <td>SRR9224237</td>\n",
       "      <td>408170</td>\n",
       "      <td>human gut metagenome</td>\n",
       "      <td>WGS</td>\n",
       "      <td>7506252</td>\n",
       "      <td>1442053788</td>\n",
       "      <td>ftp.sra.ebi.ac.uk/vol1/fastq/SRR922/007/SRR922...</td>\n",
       "      <td>NaN</td>\n",
       "      <td>NaN</td>\n",
       "      <td>ftp.sra.ebi.ac.uk/vol1/srr/SRR922/007/SRR9224237</td>\n",
       "      <td>an-0077_MG</td>\n",
       "      <td>an</td>\n",
       "      <td>2016-01-06</td>\n",
       "    </tr>\n",
       "    <tr>\n",
       "      <th>SRR9224236</th>\n",
       "      <td>SAMN11950346</td>\n",
       "      <td>SRX5994607</td>\n",
       "      <td>SRR9224236</td>\n",
       "      <td>408170</td>\n",
       "      <td>human gut metagenome</td>\n",
       "      <td>WGS</td>\n",
       "      <td>11221562</td>\n",
       "      <td>2143821964</td>\n",
       "      <td>ftp.sra.ebi.ac.uk/vol1/fastq/SRR922/006/SRR922...</td>\n",
       "      <td>NaN</td>\n",
       "      <td>NaN</td>\n",
       "      <td>ftp.sra.ebi.ac.uk/vol1/srr/SRR922/006/SRR9224236</td>\n",
       "      <td>an-0080_MG</td>\n",
       "      <td>an</td>\n",
       "      <td>2016-01-15</td>\n",
       "    </tr>\n",
       "    <tr>\n",
       "      <th>SRR9224235</th>\n",
       "      <td>SAMN11950347</td>\n",
       "      <td>SRX5994608</td>\n",
       "      <td>SRR9224235</td>\n",
       "      <td>408170</td>\n",
       "      <td>human gut metagenome</td>\n",
       "      <td>WGS</td>\n",
       "      <td>10723184</td>\n",
       "      <td>2069675782</td>\n",
       "      <td>ftp.sra.ebi.ac.uk/vol1/fastq/SRR922/005/SRR922...</td>\n",
       "      <td>NaN</td>\n",
       "      <td>NaN</td>\n",
       "      <td>ftp.sra.ebi.ac.uk/vol1/srr/SRR922/005/SRR9224235</td>\n",
       "      <td>an-0081_MG</td>\n",
       "      <td>an</td>\n",
       "      <td>2016-01-17</td>\n",
       "    </tr>\n",
       "    <tr>\n",
       "      <th>SRR9224234</th>\n",
       "      <td>SAMN11950348</td>\n",
       "      <td>SRX5994609</td>\n",
       "      <td>SRR9224234</td>\n",
       "      <td>408170</td>\n",
       "      <td>human gut metagenome</td>\n",
       "      <td>WGS</td>\n",
       "      <td>6721564</td>\n",
       "      <td>1295627527</td>\n",
       "      <td>ftp.sra.ebi.ac.uk/vol1/fastq/SRR922/004/SRR922...</td>\n",
       "      <td>NaN</td>\n",
       "      <td>NaN</td>\n",
       "      <td>ftp.sra.ebi.ac.uk/vol1/srr/SRR922/004/SRR9224234</td>\n",
       "      <td>an-0082_MG</td>\n",
       "      <td>an</td>\n",
       "      <td>2016-01-18</td>\n",
       "    </tr>\n",
       "    <tr>\n",
       "      <th>SRR9224233</th>\n",
       "      <td>SAMN11950349</td>\n",
       "      <td>SRX5994610</td>\n",
       "      <td>SRR9224233</td>\n",
       "      <td>408170</td>\n",
       "      <td>human gut metagenome</td>\n",
       "      <td>WGS</td>\n",
       "      <td>11383</td>\n",
       "      <td>2048436</td>\n",
       "      <td>ftp.sra.ebi.ac.uk/vol1/fastq/SRR922/003/SRR922...</td>\n",
       "      <td>NaN</td>\n",
       "      <td>NaN</td>\n",
       "      <td>ftp.sra.ebi.ac.uk/vol1/srr/SRR922/003/SRR9224233</td>\n",
       "      <td>an-0083_MG</td>\n",
       "      <td>an</td>\n",
       "      <td>2016-01-19</td>\n",
       "    </tr>\n",
       "  </tbody>\n",
       "</table>\n",
       "<p>61 rows × 15 columns</p>\n",
       "</div>"
      ],
      "text/plain": [
       "              sample_accession experiment_accession run_accession.1  tax_id  \\\n",
       "run_accession                                                                 \n",
       "SRR9224203        SAMN11950287           SRX5994640      SRR9224203  408170   \n",
       "SRR9224313        SAMN11950288           SRX5994530      SRR9224313  408170   \n",
       "SRR9224314        SAMN11950289           SRX5994529      SRR9224314  408170   \n",
       "SRR9224321        SAMN11950290           SRX5994522      SRR9224321  408170   \n",
       "SRR9224184        SAMN11950291           SRX5994659      SRR9224184  408170   \n",
       "...                        ...                  ...             ...     ...   \n",
       "SRR9224237        SAMN11950345           SRX5994606      SRR9224237  408170   \n",
       "SRR9224236        SAMN11950346           SRX5994607      SRR9224236  408170   \n",
       "SRR9224235        SAMN11950347           SRX5994608      SRR9224235  408170   \n",
       "SRR9224234        SAMN11950348           SRX5994609      SRR9224234  408170   \n",
       "SRR9224233        SAMN11950349           SRX5994610      SRR9224233  408170   \n",
       "\n",
       "                    scientific_name library_strategy  read_count  base_count  \\\n",
       "run_accession                                                                  \n",
       "SRR9224203     human gut metagenome              WGS     9793481  1896190030   \n",
       "SRR9224313     human gut metagenome              WGS    16153742  3060644751   \n",
       "SRR9224314     human gut metagenome              WGS     5326453  1028840940   \n",
       "SRR9224321     human gut metagenome              WGS     6739394  1300910816   \n",
       "SRR9224184     human gut metagenome              WGS     6647595  1258188780   \n",
       "...                             ...              ...         ...         ...   \n",
       "SRR9224237     human gut metagenome              WGS     7506252  1442053788   \n",
       "SRR9224236     human gut metagenome              WGS    11221562  2143821964   \n",
       "SRR9224235     human gut metagenome              WGS    10723184  2069675782   \n",
       "SRR9224234     human gut metagenome              WGS     6721564  1295627527   \n",
       "SRR9224233     human gut metagenome              WGS       11383     2048436   \n",
       "\n",
       "                                                       fastq_ftp  \\\n",
       "run_accession                                                      \n",
       "SRR9224203     ftp.sra.ebi.ac.uk/vol1/fastq/SRR922/003/SRR922...   \n",
       "SRR9224313     ftp.sra.ebi.ac.uk/vol1/fastq/SRR922/003/SRR922...   \n",
       "SRR9224314     ftp.sra.ebi.ac.uk/vol1/fastq/SRR922/004/SRR922...   \n",
       "SRR9224321     ftp.sra.ebi.ac.uk/vol1/fastq/SRR922/001/SRR922...   \n",
       "SRR9224184     ftp.sra.ebi.ac.uk/vol1/fastq/SRR922/004/SRR922...   \n",
       "...                                                          ...   \n",
       "SRR9224237     ftp.sra.ebi.ac.uk/vol1/fastq/SRR922/007/SRR922...   \n",
       "SRR9224236     ftp.sra.ebi.ac.uk/vol1/fastq/SRR922/006/SRR922...   \n",
       "SRR9224235     ftp.sra.ebi.ac.uk/vol1/fastq/SRR922/005/SRR922...   \n",
       "SRR9224234     ftp.sra.ebi.ac.uk/vol1/fastq/SRR922/004/SRR922...   \n",
       "SRR9224233     ftp.sra.ebi.ac.uk/vol1/fastq/SRR922/003/SRR922...   \n",
       "\n",
       "               submitted_ftp  submitted_format  \\\n",
       "run_accession                                    \n",
       "SRR9224203               NaN               NaN   \n",
       "SRR9224313               NaN               NaN   \n",
       "SRR9224314               NaN               NaN   \n",
       "SRR9224321               NaN               NaN   \n",
       "SRR9224184               NaN               NaN   \n",
       "...                      ...               ...   \n",
       "SRR9224237               NaN               NaN   \n",
       "SRR9224236               NaN               NaN   \n",
       "SRR9224235               NaN               NaN   \n",
       "SRR9224234               NaN               NaN   \n",
       "SRR9224233               NaN               NaN   \n",
       "\n",
       "                                                        sra_ftp sample_alias  \\\n",
       "run_accession                                                                  \n",
       "SRR9224203     ftp.sra.ebi.ac.uk/vol1/srr/SRR922/003/SRR9224203   an-0001_MG   \n",
       "SRR9224313     ftp.sra.ebi.ac.uk/vol1/srr/SRR922/003/SRR9224313   an-0002_MG   \n",
       "SRR9224314     ftp.sra.ebi.ac.uk/vol1/srr/SRR922/004/SRR9224314   an-0003_MG   \n",
       "SRR9224321     ftp.sra.ebi.ac.uk/vol1/srr/SRR922/001/SRR9224321   an-0004_MG   \n",
       "SRR9224184     ftp.sra.ebi.ac.uk/vol1/srr/SRR922/004/SRR9224184   an-0005_MG   \n",
       "...                                                         ...          ...   \n",
       "SRR9224237     ftp.sra.ebi.ac.uk/vol1/srr/SRR922/007/SRR9224237   an-0077_MG   \n",
       "SRR9224236     ftp.sra.ebi.ac.uk/vol1/srr/SRR922/006/SRR9224236   an-0080_MG   \n",
       "SRR9224235     ftp.sra.ebi.ac.uk/vol1/srr/SRR922/005/SRR9224235   an-0081_MG   \n",
       "SRR9224234     ftp.sra.ebi.ac.uk/vol1/srr/SRR922/004/SRR9224234   an-0082_MG   \n",
       "SRR9224233     ftp.sra.ebi.ac.uk/vol1/srr/SRR922/003/SRR9224233   an-0083_MG   \n",
       "\n",
       "              host collection_date  \n",
       "run_accession                       \n",
       "SRR9224203      an      2015-01-09  \n",
       "SRR9224313      an      2015-01-12  \n",
       "SRR9224314      an      2015-01-13  \n",
       "SRR9224321      an      2015-01-20  \n",
       "SRR9224184      an      2015-01-22  \n",
       "...            ...             ...  \n",
       "SRR9224237      an      2016-01-06  \n",
       "SRR9224236      an      2016-01-15  \n",
       "SRR9224235      an      2016-01-17  \n",
       "SRR9224234      an      2016-01-18  \n",
       "SRR9224233      an      2016-01-19  \n",
       "\n",
       "[61 rows x 15 columns]"
      ]
     },
     "execution_count": 7,
     "metadata": {},
     "output_type": "execute_result"
    }
   ],
   "source": [
    "df.loc[df[\"host\"] == \"an\"]"
   ]
  },
  {
   "cell_type": "code",
   "execution_count": 7,
   "id": "877fd516",
   "metadata": {},
   "outputs": [],
   "source": [
    "df = pd.read_csv(\"/u/scratch/r/rwolff/Poyet_midas_output/merged_midas_output/an_standard/species/coverage.txt.bz2\",index_col=0,sep=\"\\t\")"
   ]
  },
  {
   "cell_type": "code",
   "execution_count": 9,
   "id": "a38344e0",
   "metadata": {},
   "outputs": [
    {
     "data": {
      "text/plain": [
       "[<matplotlib.lines.Line2D at 0x2b49e7e33550>]"
      ]
     },
     "execution_count": 9,
     "metadata": {},
     "output_type": "execute_result"
    },
    {
     "data": {
      "image/png": "[encoded data removed]",
      "text/plain": [
       "<Figure size 432x288 with 1 Axes>"
      ]
     },
     "metadata": {
      "needs_background": "light"
     },
     "output_type": "display_data"
    }
   ],
   "source": [
    "plt.plot(df.loc[\"Eubacterium_rectale_56927\"].values)"
   ]
  },
  {
   "cell_type": "code",
   "execution_count": null,
   "id": "798745bd",
   "metadata": {},
   "outputs": [],
   "source": [
    "df[\"\"]"
   ]
  },
  {
   "cell_type": "code",
   "execution_count": 8,
   "id": "b9397048",
   "metadata": {},
   "outputs": [
    {
     "data": {
      "text/plain": [
       "species_id\n",
       "Bacteroides_vulgatus_57955            66.119310\n",
       "Bacteroides_uniformis_57318           23.250059\n",
       "Bacteroides_xylanisolvens_57185       15.500653\n",
       "Eubacterium_rectale_56927             13.605609\n",
       "Bacteroides_clarus_62282              10.964533\n",
       "Bacteroides_massiliensis_44749        10.449603\n",
       "Bacteroides_intestinalis_61596         9.825820\n",
       "Parabacteroides_distasonis_56985       9.445357\n",
       "Alistipes_putredinis_61533             8.634523\n",
       "Ruminococcus_bicirculans_59300         7.556251\n",
       "Ruminococcus_bromii_62047              6.842488\n",
       "Sutterella_wadsworthensis_56828        6.180476\n",
       "Paraprevotella_clara_33712             5.096130\n",
       "Parabacteroides_merdae_56972           4.852659\n",
       "Bacteroides_rodentium_59708            4.370294\n",
       "Barnesiella_intestinihominis_62208     3.565984\n",
       "Coprococcus_sp_62244                   3.430308\n",
       "Bacteroides_ovatus_58035               3.406526\n",
       "Faecalibacterium_prausnitzii_61481     2.651759\n",
       "Alistipes_shahii_62199                 2.593937\n",
       "Name: SRR9224203, dtype: float64"
      ]
     },
     "execution_count": 8,
     "metadata": {},
     "output_type": "execute_result"
    }
   ],
   "source": [
    "df.iloc[:,0].sort_values(ascending=False)[:20]"
   ]
  },
  {
   "cell_type": "code",
   "execution_count": 10,
   "id": "1896b30b",
   "metadata": {},
   "outputs": [
    {
     "data": {
      "text/plain": [
       "species_id\n",
       "Bacteroides_fragilis_54507            25.354584\n",
       "Alistipes_putredinis_61533            12.492913\n",
       "Bacteroides_xylanisolvens_57185       12.363984\n",
       "Faecalibacterium_prausnitzii_62201     9.187475\n",
       "Eubacterium_rectale_56927              5.878761\n",
       "Eubacterium_siraeum_57634              4.874463\n",
       "Bacteroides_faecis_58503               3.452403\n",
       "Odoribacter_splanchnicus_62174         2.919665\n",
       "Providencia_rettgeri_59205             2.916640\n",
       "Faecalibacterium_prausnitzii_57453     2.350060\n",
       "Oscillibacter_sp_60799                 2.103775\n",
       "Roseburia_inulinivorans_61943          1.700732\n",
       "Haemophilus_parainfluenzae_62356       1.643131\n",
       "Bacteroides_ovatus_58035               1.573193\n",
       "Alistipes_finegoldii_56071             1.514006\n",
       "Faecalibacterium_prausnitzii_61481     1.408169\n",
       "Alistipes_onderdonkii_55464            1.326368\n",
       "Haemophilus_parainfluenzae_62468       1.260557\n",
       "Parabacteroides_goldsteinii_56831      0.999798\n",
       "Haemophilus_parainfluenzae_57123       0.989667\n",
       "Streptococcus_thermophilus_54772       0.953687\n",
       "Bifidobacterium_adolescentis_56815     0.876193\n",
       "Alistipes_shahii_62199                 0.872329\n",
       "Faecalibacterium_cf_62236              0.696761\n",
       "Roseburia_intestinalis_56239           0.654601\n",
       "Burkholderiales_bacterium_56577        0.629355\n",
       "Anaerostipes_hadrus_55206              0.621734\n",
       "Bacteroides_acidifaciens_59693         0.619951\n",
       "Dorea_longicatena_61473                0.533530\n",
       "Butyrivibrio_crossotus_61674           0.518371\n",
       "Name: SRR9224141, dtype: float64"
      ]
     },
     "execution_count": 10,
     "metadata": {},
     "output_type": "execute_result"
    }
   ],
   "source": [
    "df[\"SRR9224141\"].sort_values(ascending=False)[:30]"
   ]
  },
  {
   "cell_type": "code",
   "execution_count": 95,
   "id": "e194e555",
   "metadata": {},
   "outputs": [
    {
     "data": {
      "image/png": "[encoded data removed]",
      "text/plain": [
       "<Figure size 864x576 with 1 Axes>"
      ]
     },
     "metadata": {
      "needs_background": "light"
     },
     "output_type": "display_data"
    }
   ],
   "source": [
    "fig,ax = plt.subplots(figsize=(12,8))\n",
    "df = df.mask(df == 0)\n",
    "df.loc[df.T.mean() > .03].T.plot(legend=None,ax=ax)\n",
    "ax.semilogy();"
   ]
  },
  {
   "cell_type": "code",
   "execution_count": 15,
   "id": "fcb5999d",
   "metadata": {},
   "outputs": [
    {
     "data": {
      "text/plain": [
       "species_id\n",
       "Yaniella_halotolerans_59132              0\n",
       "Ensifer_sp_60223                         0\n",
       "Oceanibaculum_indicum_59486              0\n",
       "Propionibacterium_thoenii_59004          0\n",
       "Azohydromonas_australica_58717           0\n",
       "                                      ... \n",
       "Eubacterium_rectale_56927              628\n",
       "Faecalibacterium_prausnitzii_62201     965\n",
       "Alistipes_putredinis_61533            1032\n",
       "Bacteroides_xylanisolvens_57185       1267\n",
       "Bacteroides_fragilis_54507            2581\n",
       "Name: SRR9224141, Length: 5952, dtype: int64"
      ]
     },
     "execution_count": 15,
     "metadata": {},
     "output_type": "execute_result"
    }
   ],
   "source": [
    "df[\"SRR9224141\"].sort_values()"
   ]
  },
  {
   "cell_type": "code",
   "execution_count": 11,
   "id": "edbf5766",
   "metadata": {},
   "outputs": [],
   "source": [
    "df = pd.read_csv(\"/u/scratch/r/rwolff/Poyet_midas_output/merged_midas_output/an_standard/species/count_reads.txt.bz2\",index_col=0,sep=\"\\t\")"
   ]
  },
  {
   "cell_type": "code",
   "execution_count": 12,
   "id": "bb737196",
   "metadata": {},
   "outputs": [
    {
     "data": {
      "text/plain": [
       "<matplotlib.lines.Line2D at 0x2b49e7c059d0>"
      ]
     },
     "execution_count": 12,
     "metadata": {},
     "output_type": "execute_result"
    },
    {
     "data": {
      "image/png": "[encoded data removed]",
      "text/plain": [
       "<Figure size 432x288 with 1 Axes>"
      ]
     },
     "metadata": {
      "needs_background": "light"
     },
     "output_type": "display_data"
    }
   ],
   "source": [
    "plt.plot(df.mask(df == 0).mean().values,\"o\")\n",
    "plt.axhline(1)"
   ]
  },
  {
   "cell_type": "code",
   "execution_count": 107,
   "id": "2c0ad6bc",
   "metadata": {},
   "outputs": [
    {
     "data": {
      "image/png": "[encoded data removed]",
      "text/plain": [
       "<Figure size 432x288 with 1 Axes>"
      ]
     },
     "metadata": {
      "needs_background": "light"
     },
     "output_type": "display_data"
    }
   ],
   "source": [
    "plt.plot(df.sum().values);"
   ]
  },
  {
   "cell_type": "code",
   "execution_count": 108,
   "id": "e416a909",
   "metadata": {},
   "outputs": [
    {
     "data": {
      "text/plain": [
       "SRR9224203     24009\n",
       "SRR9224313     40440\n",
       "SRR9224314     14026\n",
       "SRR9224321     18507\n",
       "SRR9224187     23411\n",
       "SRR9224323     18195\n",
       "SRR9224184     18424\n",
       "SRR9224327     15428\n",
       "SRR9224318     19368\n",
       "SRR9224325     12306\n",
       "SRR9224322      8028\n",
       "SRR9224324     23439\n",
       "SRR9224317     23676\n",
       "SRR9224139     15943\n",
       "SRR9224137     18064\n",
       "SRR9224138     24206\n",
       "SRR9224136     19055\n",
       "SRR9224143     18615\n",
       "SRR9224142     15123\n",
       "SRR9224141     11328\n",
       "SRR9224134c    27799\n",
       "SRR9224133     18698\n",
       "SRR9224566     17668\n",
       "SRR9224004     15838\n",
       "SRR9224005     10176\n",
       "SRR9224006     16405\n",
       "SRR9224562     17024\n",
       "SRR9224563     15062\n",
       "SRR9224564     15663\n",
       "SRR9224565     15577\n",
       "SRR9224560     18557\n",
       "SRR9224561     15358\n",
       "SRR9224453     14681\n",
       "SRR9224452c    40362\n",
       "SRR9224454     20860\n",
       "SRR9224449     13612\n",
       "SRR9224448     20509\n",
       "SRR9224451     18394\n",
       "SRR9224450     11837\n",
       "SRR9224457     21056\n",
       "SRR9224456     20529\n",
       "SRR9224279     15175\n",
       "SRR9224277     23578\n",
       "SRR9224280     16342\n",
       "SRR9224278     16252\n",
       "SRR9224275     20298\n",
       "SRR9224276     19473\n",
       "SRR9224273     23164\n",
       "SRR9224274     12954\n",
       "SRR9224282     15015\n",
       "SRR9224283     22998\n",
       "SRR9224242     17746\n",
       "SRR9224241     16367\n",
       "SRR9224240     14614\n",
       "SRR9224238     23401\n",
       "SRR9224237     17108\n",
       "SRR9224235     24391\n",
       "SRR9224236     26260\n",
       "SRR9224234     15928\n",
       "dtype: int64"
      ]
     },
     "execution_count": 108,
     "metadata": {},
     "output_type": "execute_result"
    }
   ],
   "source": [
    "df.sum()"
   ]
  },
  {
   "cell_type": "code",
   "execution_count": 100,
   "id": "74af3e91",
   "metadata": {},
   "outputs": [
    {
     "data": {
      "text/plain": [
       "0"
      ]
     },
     "execution_count": 100,
     "metadata": {},
     "output_type": "execute_result"
    }
   ],
   "source": [
    "(df.mask(df == 0).mean() < .9).sum()"
   ]
  },
  {
   "cell_type": "code",
   "execution_count": 77,
   "id": "88475242",
   "metadata": {},
   "outputs": [
    {
     "data": {
      "text/plain": [
       "SRR9224203     235.382353\n",
       "SRR9224313     313.488372\n",
       "SRR9224314     143.122449\n",
       "SRR9224321     155.521008\n",
       "SRR9224187     209.026786\n",
       "SRR9224323     178.382353\n",
       "SRR9224184     173.811321\n",
       "SRR9224327     155.838384\n",
       "SRR9224318     171.398230\n",
       "SRR9224325     129.536842\n",
       "SRR9224322      88.219780\n",
       "SRR9224324     221.122642\n",
       "SRR9224317     204.103448\n",
       "SRR9224139     154.786408\n",
       "SRR9224137     194.236559\n",
       "SRR9224138     232.750000\n",
       "SRR9224136     190.550000\n",
       "SRR9224143     177.285714\n",
       "SRR9224142     160.882979\n",
       "SRR9224141      87.138462\n",
       "SRR9224134c    227.860656\n",
       "SRR9224133     190.795918\n",
       "SRR9224566     198.516854\n",
       "SRR9224004     159.979798\n",
       "SRR9224005      99.764706\n",
       "SRR9224006     142.652174\n",
       "SRR9224562     189.155556\n",
       "SRR9224563     160.234043\n",
       "SRR9224564     158.212121\n",
       "SRR9224565     163.968421\n",
       "SRR9224560     171.824074\n",
       "SRR9224561     194.405063\n",
       "SRR9224453     151.350515\n",
       "SRR9224452c    296.779412\n",
       "SRR9224454     194.953271\n",
       "SRR9224449     147.956522\n",
       "SRR9224448     181.495575\n",
       "SRR9224451     187.693878\n",
       "SRR9224450     137.639535\n",
       "SRR9224457     206.431373\n",
       "SRR9224456     207.363636\n",
       "SRR9224279     163.172043\n",
       "SRR9224277     224.552381\n",
       "SRR9224280     185.704545\n",
       "SRR9224278     169.291667\n",
       "SRR9224275     209.257732\n",
       "SRR9224276     196.696970\n",
       "SRR9224273     210.581818\n",
       "SRR9224274     133.546392\n",
       "SRR9224282     144.375000\n",
       "SRR9224283     216.962264\n",
       "SRR9224242     169.009524\n",
       "SRR9224241     150.155963\n",
       "SRR9224240     167.977011\n",
       "SRR9224238     200.008547\n",
       "SRR9224237     174.571429\n",
       "SRR9224235     232.295238\n",
       "SRR9224236     240.917431\n",
       "SRR9224234     162.530612\n",
       "dtype: float64"
      ]
     },
     "execution_count": 77,
     "metadata": {},
     "output_type": "execute_result"
    }
   ],
   "source": [
    "df.mask(df == 0).mean()"
   ]
  },
  {
   "cell_type": "code",
   "execution_count": null,
   "id": "e390f587",
   "metadata": {},
   "outputs": [],
   "source": []
  }
 ],
 "metadata": {
  "kernelspec": {
   "display_name": "Python 3 (ipykernel)",
   "language": "python",
   "name": "python3"
  },
  "language_info": {
   "codemirror_mode": {
    "name": "ipython",
    "version": 3
   },
   "file_extension": ".py",
   "mimetype": "text/x-python",
   "name": "python",
   "nbconvert_exporter": "python",
   "pygments_lexer": "ipython3",
   "version": "3.9.6"
  }
 },
 "nbformat": 4,
 "nbformat_minor": 5
}
