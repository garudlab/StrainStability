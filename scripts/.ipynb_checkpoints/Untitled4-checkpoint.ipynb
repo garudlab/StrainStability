{
 "cells": [
  {
   "cell_type": "code",
   "execution_count": 1,
   "id": "6599c35b",
   "metadata": {},
   "outputs": [],
   "source": [
    "import state_utils\n",
    "\n",
    "state_utils.set_cohort(\"Poyet\")\n",
    "state_utils.set_host(\"ao\")\n",
    "state_utils.set_midas_db_type(\"standard\")\n",
    "\n",
    "import pandas as pd\n",
    "import numpy as np\n",
    "import matplotlib.pyplot as plt\n",
    "import config\n",
    "import os\n",
    "\n",
    "letter_list = [\"A\",\"B\",\"C\"]"
   ]
  },
  {
   "cell_type": "code",
   "execution_count": 3,
   "id": "4ad44910",
   "metadata": {},
   "outputs": [
    {
     "ename": "OSError",
     "evalue": "[Errno 2] No such file or directory: '/u/home/r/rwolff/strain_stability_revisions/strainstability/analysis/clusters/Poyet/ao/Bacteroides_vulgatus_57955'",
     "output_type": "error",
     "traceback": [
      "\u001b[0;31m\u001b[0m",
      "\u001b[0;31mOSError\u001b[0mTraceback (most recent call last)",
      "\u001b[0;32m<ipython-input-3-f599b726167e>\u001b[0m in \u001b[0;36m<module>\u001b[0;34m()\u001b[0m\n\u001b[1;32m      8\u001b[0m \u001b[0mi\u001b[0m \u001b[0;34m=\u001b[0m \u001b[0;36m0\u001b[0m\u001b[0;34m\u001b[0m\u001b[0m\n\u001b[1;32m      9\u001b[0m \u001b[0;34m\u001b[0m\u001b[0m\n\u001b[0;32m---> 10\u001b[0;31m \u001b[0;32mfor\u001b[0m \u001b[0mstrain\u001b[0m \u001b[0;32min\u001b[0m \u001b[0mos\u001b[0m\u001b[0;34m.\u001b[0m\u001b[0mlistdir\u001b[0m\u001b[0;34m(\u001b[0m\u001b[0mcluster_dir\u001b[0m\u001b[0;34m)\u001b[0m\u001b[0;34m:\u001b[0m\u001b[0;34m\u001b[0m\u001b[0m\n\u001b[0m\u001b[1;32m     11\u001b[0m \u001b[0;34m\u001b[0m\u001b[0m\n\u001b[1;32m     12\u001b[0m     \u001b[0mstrain_label\u001b[0m \u001b[0;34m=\u001b[0m \u001b[0;34m\"%s_%s\"\u001b[0m \u001b[0;34m%\u001b[0m \u001b[0;34m(\u001b[0m\u001b[0mspecies\u001b[0m\u001b[0;34m,\u001b[0m\u001b[0mletter_list\u001b[0m\u001b[0;34m[\u001b[0m\u001b[0mi\u001b[0m\u001b[0;34m]\u001b[0m\u001b[0;34m)\u001b[0m\u001b[0;34m\u001b[0m\u001b[0m\n",
      "\u001b[0;31mOSError\u001b[0m: [Errno 2] No such file or directory: '/u/home/r/rwolff/strain_stability_revisions/strainstability/analysis/clusters/Poyet/ao/Bacteroides_vulgatus_57955'"
     ]
    }
   ],
   "source": [
    "analysis_dir = config.analysis_directory\n",
    "\n",
    "all_species = os.listdir(\"%s/clusters/Poyet/%s\" % (analysis_dir,config.host))\n",
    "\n",
    "strain_snv_dic = {}\n",
    "strain_centroid_dic = {}\n",
    "i = 0\n",
    "\n",
    "for strain in os.listdir(cluster_dir):\n",
    "\n",
    "    strain_label = \"%s_%s\" % (species,letter_list[i])\n",
    "    df = pd.read_csv(\"%s/%s\" % (cluster_dir,strain),index_col=0)\n",
    "    strain_snv_dic[strain_label] = df\n",
    "    strain_centroid_dic[strain_label] = df.median()\n",
    "    i+=1"
   ]
  },
  {
   "cell_type": "code",
   "execution_count": null,
   "id": "3da17dfe",
   "metadata": {},
   "outputs": [],
   "source": []
  }
 ],
 "metadata": {
  "kernelspec": {
   "display_name": "strain_stability_env",
   "language": "python",
   "name": "strain_stability_env"
  },
  "language_info": {
   "codemirror_mode": {
    "name": "ipython",
    "version": 2
   },
   "file_extension": ".py",
   "mimetype": "text/x-python",
   "name": "python",
   "nbconvert_exporter": "python",
   "pygments_lexer": "ipython2",
   "version": "2.7.15"
  }
 },
 "nbformat": 4,
 "nbformat_minor": 5
}
